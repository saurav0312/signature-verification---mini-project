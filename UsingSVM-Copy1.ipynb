{
 "cells": [
  {
   "cell_type": "code",
   "execution_count": 50,
   "metadata": {},
   "outputs": [],
   "source": [
    "from sklearn import metrics\n",
    "import seaborn as sns"
   ]
  },
  {
   "cell_type": "code",
   "execution_count": null,
   "metadata": {},
   "outputs": [],
   "source": []
  },
  {
   "cell_type": "code",
   "execution_count": null,
   "metadata": {},
   "outputs": [],
   "source": []
  },
  {
   "cell_type": "code",
   "execution_count": 51,
   "metadata": {},
   "outputs": [],
   "source": [
    "def pretty_cm(y_pred, y_truth, labels):\n",
    "    # pretty implementation of a confusion matrix\n",
    "    cm = metrics.confusion_matrix(y_truth, y_pred)\n",
    "    ax= plt.subplot()\n",
    "    sns.heatmap(cm, annot=True, fmt=\"d\", linewidths=.5, square = True, cmap = 'BuGn_r')\n",
    "    # labels, title and ticks\n",
    "    ax.set_xlabel('Predicted label')\n",
    "    ax.set_ylabel('Actual label')\n",
    "    ax.set_title('Accuracy: {0}'.format(metrics.accuracy_score(y_truth, y_pred)), size = 15) \n",
    "    ax.xaxis.set_ticklabels(labels)\n",
    "    ax.yaxis.set_ticklabels(labels)"
   ]
  },
  {
   "cell_type": "code",
   "execution_count": 52,
   "metadata": {},
   "outputs": [
    {
     "name": "stdout",
     "output_type": "stream",
     "text": [
      "1.0\n",
      "1.0\n",
      "1.0\n",
      "0.9992424242424243\n",
      "0.9993939393939394\n",
      "0.9993265993265993\n",
      "0.9992784992784993\n",
      "0.9993686868686869\n",
      "0.9992143658810325\n",
      "0.9990909090909091\n"
     ]
    }
   ],
   "source": [
    "from pylab import *\n",
    "import numpy as np\n",
    "from os import listdir\n",
    "from sklearn.svm import LinearSVC\n",
    "import cv2\n",
    "from PIL import Image\n",
    "from sklearn import svm\n",
    "import imagehash\n",
    "from scipy.cluster.vq import *\n",
    "from sklearn.preprocessing import StandardScaler\n",
    "from sklearn import tree\n",
    "from sklearn import linear_model\n",
    "\n",
    "\n",
    "def preprocess_image(path, display=False):\n",
    "    raw_image = cv2.imread(path)\n",
    "    bw_image = cv2.cvtColor(raw_image, cv2.COLOR_BGR2GRAY)\n",
    "    #bw_image = 255 - bw_image\n",
    "\n",
    "    if display:\n",
    "        cv2.imshow(\"RGB to Gray\", bw_image)\n",
    "        cv2.waitKey()\n",
    "\n",
    "    #_, threshold_image = cv2.threshold(bw_image, 30, 255, 0)\n",
    "\n",
    "    #if display:\n",
    "     #   cv2.imshow(\"Threshold\", threshold_image)\n",
    "      #  cv2.waitKey()\n",
    "\n",
    "    #return threshold_image\n",
    "    return bw_image\n",
    "\n",
    "def sift(im, path, display=False):\n",
    "    raw_image = cv2.imread(path)\n",
    "    sift = cv2.xfeatures2d.SIFT_create()\n",
    "    kp, des = sift.detectAndCompute(im, None)\n",
    "\n",
    "    if display:\n",
    "        cv2.drawKeypoints(im, kp, raw_image)\n",
    "        cv2.imshow('sift_keypoints.jpg', cv2.resize(raw_image, (0, 0), fx=3, fy=3))\n",
    "        cv2.waitKey()\n",
    "\n",
    "    return (path, des)\n",
    "\n",
    "\n",
    "des_list = []\n",
    "\n",
    "\n",
    "genuine_image_filenames = listdir(\"signatures/full_org\")\n",
    "forged_image_filenames = listdir(\"signatures/full_forg\")\n",
    "\n",
    "genuine_image_paths = \"signatures/full_org\"\n",
    "forged_image_paths = \"signatures/full_forg\"\n",
    "\n",
    "genuine_image_features = [[] for x in range(55)]\n",
    "forged_image_features = [[] for x in range(55)]\n",
    "\n",
    "for name in genuine_image_filenames[0:1320]:\n",
    "    signature_id = int(name.split('_')[1])\n",
    "    genuine_image_features[signature_id - 1].append({\"name\": name})\n",
    "\n",
    "for name in forged_image_filenames[0:1320]:\n",
    "    signature_id = int(name.split('_')[1])\n",
    "    forged_image_features[signature_id - 1].append({\"name\": name})\n",
    "    \n",
    "\n",
    "cor = 0\n",
    "wrong = 0\n",
    "acc=[]\n",
    "for itr in range(10):\n",
    "    for i in range(55):\n",
    "        des_list = []\n",
    "        for im in genuine_image_features[i]:\n",
    "            image_path = genuine_image_paths + \"/\" + im['name']\n",
    "            preprocessed_image = preprocess_image(image_path)\n",
    "            des_list.append(sift(preprocessed_image, image_path))\n",
    "\n",
    "        for im in forged_image_features[i]:\n",
    "            image_path = forged_image_paths + \"/\" + im['name']\n",
    "            preprocessed_image = preprocess_image(image_path)\n",
    "            des_list.append(sift(preprocessed_image, image_path))\n",
    "\n",
    "        descriptors = des_list[0][1]\n",
    "        for image_path, descriptor in des_list[1:]:\n",
    "            descriptors = np.vstack((descriptors, descriptor))\n",
    "        k = 300\n",
    "        voc, variance = kmeans(descriptors, k, 1)\n",
    "        im_features = np.zeros((len(genuine_image_features[i]) + len(forged_image_features[i]), k), \"float32\")\n",
    "\n",
    "        for i in range(len(genuine_image_features[i]) + len(forged_image_features[i])):\n",
    "            words, distance = vq(des_list[i][1], voc)\n",
    "            for w in words:\n",
    "                im_features[i][w] += 1\n",
    "\n",
    "        stdSlr = StandardScaler().fit(im_features)\n",
    "        im_features = stdSlr.transform(im_features)\n",
    "        train_genuine_features, test_genuine_features = im_features[0:15], im_features[15:24]\n",
    "\n",
    "        train_forged_features, test_forged_features = im_features[24:39], im_features[39:]\n",
    "        \n",
    "        true_labels=np.array([1 for x in range(len(test_forged_features))] + [2 for x in range(len(test_genuine_features))])\n",
    "        \n",
    "        \n",
    "        clf = LinearSVC()\n",
    "        clf.fit(np.concatenate((train_forged_features,train_genuine_features)), np.array([1 for x in range(len(train_forged_features))] + [2 for x in range(len(train_genuine_features))]))\n",
    "\n",
    "        genuine_res = clf.predict(test_genuine_features)\n",
    "\n",
    "        for res in genuine_res:\n",
    "            if int(res) == 2:\n",
    "                cor += 1\n",
    "            else:\n",
    "                wrong += 1\n",
    "\n",
    "        #print(\"1\" + str(clf.predict(test_forged_features)))\n",
    "        forged_res = clf.predict(test_forged_features)\n",
    "\n",
    "        for res in forged_res:\n",
    "            if int(res) == 1:\n",
    "                cor += 1\n",
    "            else:\n",
    "                wrong += 1\n",
    "                \n",
    "        pred_labels=np.concatenate([forged_res,genuine_res])\n",
    "        #pretty_cm(pred_labels, true_labels, ['Genuine', 'Forge'])\n",
    "    \n",
    "    fin_res=float(cor)/(cor+wrong)\n",
    "    print(float(cor)/(cor+wrong))\n",
    "    acc.append(fin_res)"
   ]
  },
  {
   "cell_type": "code",
   "execution_count": 53,
   "metadata": {},
   "outputs": [
    {
     "data": {
      "text/plain": [
       "0.9994915424082091"
      ]
     },
     "execution_count": 53,
     "metadata": {},
     "output_type": "execute_result"
    }
   ],
   "source": [
    "np.mean(acc)"
   ]
  },
  {
   "cell_type": "code",
   "execution_count": 26,
   "metadata": {},
   "outputs": [],
   "source": [
    "true_labels=np.array([1 for x in range(len(test_forged_features))] + [2 for x in range(len(test_genuine_features))])    "
   ]
  },
  {
   "cell_type": "code",
   "execution_count": 27,
   "metadata": {},
   "outputs": [],
   "source": [
    "def pretty_cm(y_pred, y_truth, labels):\n",
    "    # pretty implementation of a confusion matrix\n",
    "    cm = metrics.confusion_matrix(y_truth, y_pred)\n",
    "    ax= plt.subplot()\n",
    "    sns.heatmap(cm, annot=True, fmt=\"d\", linewidths=.5, square = True, cmap = 'BuGn_r')\n",
    "    # labels, title and ticks\n",
    "    ax.set_xlabel('Predicted label')\n",
    "    ax.set_ylabel('Actual label')\n",
    "    ax.set_title('Accuracy: {0}'.format(metrics.accuracy_score(y_truth, y_pred)), size = 15) \n",
    "    ax.xaxis.set_ticklabels(labels)\n",
    "    ax.yaxis.set_ticklabels(labels)"
   ]
  },
  {
   "cell_type": "code",
   "execution_count": 28,
   "metadata": {},
   "outputs": [
    {
     "data": {
      "text/plain": [
       "array([2, 2, 2, 2])"
      ]
     },
     "execution_count": 28,
     "metadata": {},
     "output_type": "execute_result"
    }
   ],
   "source": [
    "genuine_res"
   ]
  },
  {
   "cell_type": "code",
   "execution_count": 29,
   "metadata": {},
   "outputs": [
    {
     "data": {
      "text/plain": [
       "4"
      ]
     },
     "execution_count": 29,
     "metadata": {},
     "output_type": "execute_result"
    }
   ],
   "source": [
    "len(test_genuine_features)"
   ]
  },
  {
   "cell_type": "code",
   "execution_count": 30,
   "metadata": {},
   "outputs": [
    {
     "data": {
      "text/plain": [
       "array([1, 1, 1, 1])"
      ]
     },
     "execution_count": 30,
     "metadata": {},
     "output_type": "execute_result"
    }
   ],
   "source": [
    "forged_res"
   ]
  },
  {
   "cell_type": "code",
   "execution_count": 31,
   "metadata": {},
   "outputs": [
    {
     "data": {
      "text/plain": [
       "4"
      ]
     },
     "execution_count": 31,
     "metadata": {},
     "output_type": "execute_result"
    }
   ],
   "source": [
    "len(test_forged_features)"
   ]
  },
  {
   "cell_type": "code",
   "execution_count": 32,
   "metadata": {},
   "outputs": [
    {
     "data": {
      "text/plain": [
       "array([1, 1, 1, 1, 2, 2, 2, 2])"
      ]
     },
     "execution_count": 32,
     "metadata": {},
     "output_type": "execute_result"
    }
   ],
   "source": [
    "true_labels"
   ]
  },
  {
   "cell_type": "code",
   "execution_count": 40,
   "metadata": {},
   "outputs": [],
   "source": [
    "pred_labels=np.concatenate([forged_res,genuine_res])"
   ]
  },
  {
   "cell_type": "code",
   "execution_count": 41,
   "metadata": {},
   "outputs": [
    {
     "data": {
      "text/plain": [
       "array([1, 1, 1, 1, 2, 2, 2, 2])"
      ]
     },
     "execution_count": 41,
     "metadata": {},
     "output_type": "execute_result"
    }
   ],
   "source": [
    "pred_labels"
   ]
  },
  {
   "cell_type": "code",
   "execution_count": 44,
   "metadata": {},
   "outputs": [],
   "source": [
    "from sklearn import metrics\n",
    "import seaborn as sns"
   ]
  },
  {
   "cell_type": "code",
   "execution_count": null,
   "metadata": {},
   "outputs": [],
   "source": []
  },
  {
   "cell_type": "code",
   "execution_count": null,
   "metadata": {},
   "outputs": [],
   "source": []
  },
  {
   "cell_type": "code",
   "execution_count": 45,
   "metadata": {},
   "outputs": [
    {
     "data": {
      "image/png": "[encoded data removed]",
      "text/plain": [
       "<Figure size 432x288 with 2 Axes>"
      ]
     },
     "metadata": {
      "needs_background": "light"
     },
     "output_type": "display_data"
    }
   ],
   "source": [
    "pretty_cm(pred_labels, true_labels, ['Genuine', 'Forge'])"
   ]
  },
  {
   "cell_type": "code",
   "execution_count": null,
   "metadata": {},
   "outputs": [],
   "source": []
  },
  {
   "cell_type": "code",
   "execution_count": null,
   "metadata": {},
   "outputs": [],
   "source": []
  },
  {
   "cell_type": "code",
   "execution_count": null,
   "metadata": {},
   "outputs": [],
   "source": []
  },
  {
   "cell_type": "code",
   "execution_count": null,
   "metadata": {},
   "outputs": [],
   "source": []
  },
  {
   "cell_type": "code",
   "execution_count": 20,
   "metadata": {},
   "outputs": [
    {
     "data": {
      "text/plain": [
       "24"
      ]
     },
     "execution_count": 20,
     "metadata": {},
     "output_type": "execute_result"
    }
   ],
   "source": [
    "len(genuine_image_features[0])"
   ]
  },
  {
   "cell_type": "code",
   "execution_count": 21,
   "metadata": {},
   "outputs": [
    {
     "data": {
      "text/plain": [
       "48"
      ]
     },
     "execution_count": 21,
     "metadata": {},
     "output_type": "execute_result"
    }
   ],
   "source": [
    "len(im_features)"
   ]
  },
  {
   "cell_type": "code",
   "execution_count": null,
   "metadata": {},
   "outputs": [],
   "source": [
    "genuine_image_filenames = listdir(\"signatures/full_org\")\n",
    "forged_image_filenames = listdir(\"signatures/full_forg\")\n",
    "\n",
    "genuine_image_paths = \"signatures/full_org\"\n",
    "forged_image_paths = \"signatures/full_forg\"\n",
    "\n",
    "genuine_image_features = [[] for x in range(55)]\n",
    "forged_image_features = [[] for x in range(55)]\n",
    "\n"
   ]
  },
  {
   "cell_type": "code",
   "execution_count": null,
   "metadata": {},
   "outputs": [],
   "source": [
    "genuine_image_filenames"
   ]
  },
  {
   "cell_type": "code",
   "execution_count": null,
   "metadata": {},
   "outputs": [],
   "source": [
    "import pandas as pd"
   ]
  },
  {
   "cell_type": "code",
   "execution_count": null,
   "metadata": {},
   "outputs": [],
   "source": [
    "pd.options.display.max_rows=4000"
   ]
  },
  {
   "cell_type": "code",
   "execution_count": null,
   "metadata": {},
   "outputs": [],
   "source": [
    "for name in genuine_image_filenames[0:1320]:\n",
    "    signature_id = int(name.split('_')[1])\n",
    "    genuine_image_features[signature_id - 1].append({\"name\": name})\n",
    "\n",
    "for name in forged_image_filenames[0:1320]:\n",
    "    signature_id = int(name.split('_')[1])\n",
    "    forged_image_features[signature_id - 1].append({\"name\": name})"
   ]
  },
  {
   "cell_type": "code",
   "execution_count": null,
   "metadata": {},
   "outputs": [],
   "source": [
    "len(genuine_image_filenames)"
   ]
  },
  {
   "cell_type": "code",
   "execution_count": null,
   "metadata": {},
   "outputs": [],
   "source": [
    "genuine_image_features[0]"
   ]
  },
  {
   "cell_type": "code",
   "execution_count": null,
   "metadata": {},
   "outputs": [],
   "source": []
  },
  {
   "cell_type": "code",
   "execution_count": null,
   "metadata": {},
   "outputs": [],
   "source": []
  },
  {
   "cell_type": "code",
   "execution_count": null,
   "metadata": {},
   "outputs": [],
   "source": []
  },
  {
   "cell_type": "code",
   "execution_count": null,
   "metadata": {},
   "outputs": [],
   "source": []
  },
  {
   "cell_type": "code",
   "execution_count": null,
   "metadata": {},
   "outputs": [],
   "source": []
  },
  {
   "cell_type": "code",
   "execution_count": null,
   "metadata": {},
   "outputs": [],
   "source": []
  },
  {
   "cell_type": "code",
   "execution_count": null,
   "metadata": {},
   "outputs": [],
   "source": []
  },
  {
   "cell_type": "code",
   "execution_count": null,
   "metadata": {},
   "outputs": [],
   "source": []
  },
  {
   "cell_type": "code",
   "execution_count": null,
   "metadata": {},
   "outputs": [],
   "source": []
  },
  {
   "cell_type": "code",
   "execution_count": null,
   "metadata": {},
   "outputs": [],
   "source": []
  },
  {
   "cell_type": "code",
   "execution_count": null,
   "metadata": {},
   "outputs": [],
   "source": []
  },
  {
   "cell_type": "code",
   "execution_count": null,
   "metadata": {},
   "outputs": [],
   "source": []
  },
  {
   "cell_type": "code",
   "execution_count": null,
   "metadata": {},
   "outputs": [],
   "source": []
  },
  {
   "cell_type": "markdown",
   "metadata": {},
   "source": [
    "# CNN"
   ]
  },
  {
   "cell_type": "code",
   "execution_count": null,
   "metadata": {},
   "outputs": [],
   "source": [
    "genuine_image_filenames = listdir(\"trainingSet/OfflineSignatures/Dutch/TrainingSet/Offline Genuine\")\n",
    "forged_image_filenames = listdir(\"trainingSet/OfflineSignatures/Dutch/TrainingSet/Offline Forgeries\")\n",
    "\n",
    "genuine_image_paths = \"trainingSet/OfflineSignatures/Dutch/TrainingSet/Offline Genuine\"\n",
    "forged_image_paths = \"trainingSet/OfflineSignatures/Dutch/TrainingSet/Offline Forgeries\"\n",
    "\n",
    "train_X=[]\n",
    "train_Y=[]\n",
    "for im in genuine_image_filenames:\n",
    "    image_path = genuine_image_paths + \"/\" + im\n",
    "    img=cv2.imread(image_path)\n",
    "    train_X.append(img)\n",
    "    train_Y.append(1)\n",
    "\n",
    "for im in forged_image_filenames:\n",
    "    image_path = forged_image_paths + \"/\" + im\n",
    "    img=cv2.imread(image_path)\n",
    "    train_X.append(img)\n",
    "    train_Y.append(0)\n",
    "\n",
    "        "
   ]
  },
  {
   "cell_type": "code",
   "execution_count": null,
   "metadata": {},
   "outputs": [],
   "source": [
    "np.shape(train_X)"
   ]
  },
  {
   "cell_type": "code",
   "execution_count": null,
   "metadata": {},
   "outputs": [],
   "source": [
    "train_Y"
   ]
  },
  {
   "cell_type": "code",
   "execution_count": null,
   "metadata": {},
   "outputs": [],
   "source": [
    "plt.imshow(train_X[0])"
   ]
  },
  {
   "cell_type": "code",
   "execution_count": null,
   "metadata": {},
   "outputs": [],
   "source": [
    "np.shape(train_X[3])"
   ]
  },
  {
   "cell_type": "code",
   "execution_count": null,
   "metadata": {},
   "outputs": [],
   "source": [
    "from PIL import Image"
   ]
  },
  {
   "cell_type": "code",
   "execution_count": null,
   "metadata": {},
   "outputs": [],
   "source": [
    "train_X_new=[]\n",
    "for i in train_X:\n",
    "    train_X_new.append(cv2.cvtColor(i, cv2.COLOR_BGR2GRAY))"
   ]
  },
  {
   "cell_type": "code",
   "execution_count": null,
   "metadata": {
    "scrolled": true
   },
   "outputs": [],
   "source": [
    "train_X_final=[]\n",
    "for i in train_X_new:\n",
    "    img=cv2.resize(i, (120,120), interpolation = cv2.INTER_AREA)\n",
    "    train_X_final.append(img)"
   ]
  },
  {
   "cell_type": "code",
   "execution_count": null,
   "metadata": {},
   "outputs": [],
   "source": [
    "plt.imshow(train_X_final[0])"
   ]
  },
  {
   "cell_type": "code",
   "execution_count": null,
   "metadata": {},
   "outputs": [],
   "source": [
    "from keras.utils import to_categorical"
   ]
  },
  {
   "cell_type": "code",
   "execution_count": null,
   "metadata": {},
   "outputs": [],
   "source": [
    "train_X_final[0].shape"
   ]
  },
  {
   "cell_type": "code",
   "execution_count": null,
   "metadata": {},
   "outputs": [],
   "source": [
    "train_X_final=np.array(train_X_final)\n",
    "\n",
    "train_X = train_X_final.reshape(-1, 120,120, 1)\n",
    "#test_X = test_X_final.reshape(-1, 120,120, 1)\n",
    "#train_X.shape, test_X.shape"
   ]
  },
  {
   "cell_type": "code",
   "execution_count": null,
   "metadata": {},
   "outputs": [],
   "source": [
    "train_X.shape"
   ]
  },
  {
   "cell_type": "code",
   "execution_count": null,
   "metadata": {},
   "outputs": [],
   "source": [
    "train_X.shape"
   ]
  },
  {
   "cell_type": "code",
   "execution_count": null,
   "metadata": {},
   "outputs": [],
   "source": [
    "train_X = train_X.astype('float32')\n",
    "#test_X = test_X_final.astype('float32')\n",
    "train_X = train_X / 255.\n",
    "#test_X = test_X / 255."
   ]
  },
  {
   "cell_type": "code",
   "execution_count": null,
   "metadata": {},
   "outputs": [],
   "source": []
  },
  {
   "cell_type": "code",
   "execution_count": null,
   "metadata": {},
   "outputs": [],
   "source": []
  },
  {
   "cell_type": "code",
   "execution_count": null,
   "metadata": {},
   "outputs": [],
   "source": [
    "type(train_X)"
   ]
  },
  {
   "cell_type": "code",
   "execution_count": null,
   "metadata": {},
   "outputs": [],
   "source": [
    "train_Y_one_hot = to_categorical(train_Y)\n",
    "#test_Y_one_hot = to_categorical(test_Y)"
   ]
  },
  {
   "cell_type": "code",
   "execution_count": null,
   "metadata": {},
   "outputs": [],
   "source": [
    "train_Y_one_hot"
   ]
  },
  {
   "cell_type": "code",
   "execution_count": null,
   "metadata": {},
   "outputs": [],
   "source": [
    "from sklearn.model_selection import train_test_split\n",
    "train_X,valid_X,train_label,valid_label = train_test_split(train_X, train_Y_one_hot, test_size=0.2, random_state=13)"
   ]
  },
  {
   "cell_type": "code",
   "execution_count": null,
   "metadata": {},
   "outputs": [],
   "source": [
    "train_X.shape,valid_X.shape,train_label.shape,valid_label.shape"
   ]
  },
  {
   "cell_type": "code",
   "execution_count": null,
   "metadata": {},
   "outputs": [],
   "source": []
  },
  {
   "cell_type": "code",
   "execution_count": null,
   "metadata": {},
   "outputs": [],
   "source": [
    "import keras\n",
    "from keras.models import Sequential,Input,Model\n",
    "from keras.layers import Dense, Dropout, Flatten\n",
    "from keras.layers import Conv2D, MaxPooling2D\n",
    "from keras.layers.normalization import BatchNormalization\n",
    "from keras.layers.advanced_activations import LeakyReLU"
   ]
  },
  {
   "cell_type": "code",
   "execution_count": null,
   "metadata": {},
   "outputs": [],
   "source": [
    "batch_size = 73\n",
    "epochs = 20\n",
    "num_classes = 2"
   ]
  },
  {
   "cell_type": "code",
   "execution_count": null,
   "metadata": {},
   "outputs": [],
   "source": [
    "signature_model = Sequential()\n",
    "signature_model.add(Conv2D(32, kernel_size=(3, 3),activation='linear',input_shape=(120,120,1),padding='same'))\n",
    "signature_model.add(LeakyReLU(alpha=0.001))\n",
    "signature_model.add(MaxPooling2D((2, 2),padding='same'))\n",
    "signature_model.add(Dropout(0.25))\n",
    "\n",
    "signature_model.add(Conv2D(64, (3, 3), activation='linear',padding='same'))\n",
    "signature_model.add(LeakyReLU(alpha=0.001))\n",
    "signature_model.add(MaxPooling2D(pool_size=(2, 2),padding='same'))\n",
    "signature_model.add(Dropout(0.25))\n",
    "\n",
    "signature_model.add(Conv2D(64, (3, 3), activation='linear',padding='same'))\n",
    "signature_model.add(LeakyReLU(alpha=0.001))\n",
    "signature_model.add(MaxPooling2D(pool_size=(2, 2),padding='same'))\n",
    "signature_model.add(Dropout(0.4))\n",
    "\n",
    "\n",
    "signature_model.add(Conv2D(128, (3, 3), activation='linear',padding='same'))\n",
    "signature_model.add(LeakyReLU(alpha=0.001))                  \n",
    "signature_model.add(MaxPooling2D(pool_size=(2, 2),padding='same'))\n",
    "signature_model.add(Dropout(0.3))\n",
    "\n",
    "signature_model.add(Flatten())\n",
    "signature_model.add(Dense(128, activation='linear'))\n",
    "signature_model.add(LeakyReLU(alpha=0.001))      \n",
    "signature_model.add(Dropout(0.25))\n",
    "\n",
    "signature_model.add(Dense(num_classes, activation='softmax'))"
   ]
  },
  {
   "cell_type": "code",
   "execution_count": null,
   "metadata": {},
   "outputs": [],
   "source": [
    "signature_model.compile(loss=keras.losses.categorical_crossentropy, optimizer=keras.optimizers.Adam(),metrics=['accuracy'])"
   ]
  },
  {
   "cell_type": "code",
   "execution_count": null,
   "metadata": {},
   "outputs": [],
   "source": [
    "signature_model.summary()"
   ]
  },
  {
   "cell_type": "code",
   "execution_count": null,
   "metadata": {},
   "outputs": [],
   "source": [
    "signature_train = signature_model.fit(train_X, train_label, batch_size=batch_size,epochs=epochs,verbose=1,validation_data=(valid_X, valid_label))"
   ]
  },
  {
   "cell_type": "code",
   "execution_count": null,
   "metadata": {},
   "outputs": [],
   "source": []
  }
 ],
 "metadata": {
  "kernelspec": {
   "display_name": "Python 3",
   "language": "python",
   "name": "python3"
  },
  "language_info": {
   "codemirror_mode": {
    "name": "ipython",
    "version": 3
   },
   "file_extension": ".py",
   "mimetype": "text/x-python",
   "name": "python",
   "nbconvert_exporter": "python",
   "pygments_lexer": "ipython3",
   "version": "3.6.7"
  }
 },
 "nbformat": 4,
 "nbformat_minor": 2
}
